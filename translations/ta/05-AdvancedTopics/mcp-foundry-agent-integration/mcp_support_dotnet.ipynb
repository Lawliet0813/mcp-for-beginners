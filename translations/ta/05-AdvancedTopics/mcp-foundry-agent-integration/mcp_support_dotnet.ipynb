{
 "cells": [
  {
   "cell_type": "markdown",
   "id": "deb94027",
   "metadata": {},
   "source": [
    "# Azure AI Agents with Model Context Protocol (MCP) Support\n",
    "\n",
    "இந்த நோட்புக் MCP கருவிகளுடன் Azure AI Agents-ஐ பயன்படுத்தி, வெளிப்புற MCP சர்வர்களின் மேம்பட்ட திறன்களை பயன்படுத்தக்கூடிய ஒரு புத்திசாலி முகவரை உருவாக்குவது எப்படி என்பதை விளக்குகிறது.\n"
   ]
  },
  {
   "cell_type": "markdown",
   "id": "c65b1772",
   "metadata": {},
   "source": [
    "## தேவையான NuGet தொகுப்புகளை நிறுவவும்\n",
    "\n",
    "முதலில், Azure AI Agents Persistent தொகுப்பை நிறுவ வேண்டும், இது Azure AI Agents உடன் வேலை செய்ய தேவையான முக்கிய செயல்பாடுகளை வழங்குகிறது.\n"
   ]
  },
  {
   "cell_type": "markdown",
   "id": "000d6659",
   "metadata": {},
   "source": [
    "## கீ இல்லாத அங்கீகாரத்தின் நன்மைகள்\n",
    "\n",
    "இந்த நோட்புக் **கீ இல்லாத அங்கீகாரம்** பற்றிய விளக்கத்தை வழங்குகிறது, இது பல நன்மைகளை வழங்குகிறது:\n",
    "- ✅ **API கீகளை நிர்வகிக்க தேவையில்லை** - Azure அடையாள அடிப்படையிலான அங்கீகாரம் பயன்படுத்துகிறது\n",
    "- ✅ **மேம்பட்ட பாதுகாப்பு** - கோடில் அல்லது கட்டமைப்பில் ரகசியங்களை சேமிக்க தேவையில்லை\n",
    "- ✅ **தானியங்கும் சான்றிதழ் சுழற்சி** - Azure சான்றிதழ் வாழ்க்கைச்சுழற்சியை நிர்வகிக்கிறது\n",
    "- ✅ **பாத்திர அடிப்படையிலான அணுகல்** - Azure RBAC மூலம் நுணுக்கமான அனுமதிகளை வழங்குகிறது\n",
    "\n",
    "`DefaultAzureCredential` தானாகவே கிடைக்கக்கூடிய சிறந்த சான்றிதழ் மூலத்தை பயன்படுத்தும்:\n",
    "1. மேலாண்மை அடையாளம் (Azure-ல் இயங்கும்போது)\n",
    "2. Azure CLI சான்றிதழ்கள் (வளர்ச்சியின் போது)\n",
    "3. Visual Studio சான்றிதழ்கள்\n",
    "4. சூழல் மாறிகள் (அமைக்கப்பட்டால்)\n"
   ]
  },
  {
   "cell_type": "code",
   "execution_count": 1,
   "id": "ba8d7dfe",
   "metadata": {
    "language_info": {
     "name": "polyglot-notebook"
    },
    "polyglot_notebook": {
     "kernelName": "csharp"
    }
   },
   "outputs": [
    {
     "data": {
      "text/html": [
       "<div><div></div><div></div><div><strong>Installed Packages</strong><ul><li><span>Azure.AI.Agents.Persistent, 1.1.0-beta.4</span></li></ul></div></div>"
      ]
     },
     "metadata": {},
     "output_type": "display_data"
    }
   ],
   "source": [
    "#r \"nuget: Azure.AI.Agents.Persistent, 1.1.0-beta.4\""
   ]
  },
  {
   "cell_type": "markdown",
   "id": "832540a4",
   "metadata": {},
   "source": [
    "Azure Identity தொகுப்பை நிறுவி DefaultAzureCredential பயன்படுத்தி Azure சேவைகளுடன் அங்கீகாரம் செய்யவும்.\n"
   ]
  },
  {
   "cell_type": "code",
   "execution_count": 2,
   "id": "836f34ef",
   "metadata": {
    "language_info": {
     "name": "polyglot-notebook"
    },
    "polyglot_notebook": {
     "kernelName": "csharp"
    }
   },
   "outputs": [
    {
     "data": {
      "text/html": [
       "<div><div></div><div></div><div><strong>Installed Packages</strong><ul><li><span>Azure.Identity, 1.14.2</span></li></ul></div></div>"
      ]
     },
     "metadata": {},
     "output_type": "display_data"
    }
   ],
   "source": [
    "#r \"nuget: Azure.Identity, 1.14.2\""
   ]
  },
  {
   "cell_type": "markdown",
   "id": "c871f7c3",
   "metadata": {},
   "source": [
    "## தேவையான பெயரிடங்களை இறக்குமதி செய்யவும்\n",
    "\n",
    "Azure AI Agents மற்றும் Azure Identity க்கான தேவையான பெயரிடங்களை இறக்குமதி செய்யவும்.\n"
   ]
  },
  {
   "cell_type": "code",
   "execution_count": 3,
   "id": "6f4467f6",
   "metadata": {
    "language_info": {
     "name": "polyglot-notebook"
    },
    "polyglot_notebook": {
     "kernelName": "csharp"
    }
   },
   "outputs": [],
   "source": [
    "using Azure.AI.Agents.Persistent;\n",
    "using Azure.Identity;"
   ]
  },
  {
   "cell_type": "markdown",
   "id": "531fd5c4",
   "metadata": {},
   "source": [
    "## Azure AI Agent Client (Keyless Authentication) அமைக்க\n",
    "\n",
    "கட்டமைப்பு மாறிகள் அமைத்து **keyless authentication** மூலம் PersistentAgentsClient உருவாக்கவும்:\n",
    "- **projectEndpoint**: Azure AI Foundry திட்டத்தின் முடுக்கம்\n",
    "- **modelDeploymentName**: வெளியிடப்பட்ட AI மாடலின் பெயர் (GPT-4.1 nano)\n",
    "- **mcpServerUrl**: MCP சர்வரின் URL (Microsoft Learn API)\n",
    "- **mcpServerLabel**: MCP சர்வரை அடையாளம் காண ஒரு லேபிள்\n",
    "- **DefaultAzureCredential**: நிர்வகிக்கப்பட்ட அடையாளம், Azure CLI அல்லது பிற அடையாள மூலங்களைப் பயன்படுத்துகிறது (API விசைகள் தேவையில்லை)\n"
   ]
  },
  {
   "cell_type": "code",
   "execution_count": null,
   "id": "6aee3e93",
   "metadata": {
    "language_info": {
     "name": "polyglot-notebook"
    },
    "polyglot_notebook": {
     "kernelName": "csharp"
    }
   },
   "outputs": [],
   "source": [
    "var projectEndpoint = \"Your Azure AI Foundry Project Endpoint\";\n",
    "var modelDeploymentName = \"Your Azure OpenAI Model Deployment Name\";\n",
    "var mcpServerUrl = \"https://learn.microsoft.com/api/mcp\";\n",
    "var mcpServerLabel = \"mslearn\";\n",
    "PersistentAgentsClient agentClient = new(projectEndpoint, new DefaultAzureCredential());"
   ]
  },
  {
   "cell_type": "markdown",
   "id": "3fcd686c",
   "metadata": {},
   "source": [
    "## MCP கருவி வரையறையை உருவாக்கவும்\n",
    "\n",
    "Microsoft Learn MCP சர்வருடன் இணைக்க MCP கருவி வரையறையை உருவாக்கவும். இது முகவருக்கு Microsoft Learn உள்ளடக்கம் மற்றும் ஆவணங்களை அணுக அனுமதிக்கும்.\n"
   ]
  },
  {
   "cell_type": "code",
   "execution_count": null,
   "id": "678a4a25",
   "metadata": {
    "language_info": {
     "name": "polyglot-notebook"
    },
    "polyglot_notebook": {
     "kernelName": "csharp"
    }
   },
   "outputs": [],
   "source": [
    "MCPToolDefinition mcpTool = new(mcpServerLabel, mcpServerUrl);"
   ]
  },
  {
   "cell_type": "markdown",
   "id": "5304cefe",
   "metadata": {},
   "source": [
    "## AI முகவரியை உருவாக்கவும்\n",
    "\n",
    "குறிப்பிட்ட மாதிரி மற்றும் MCP கருவிகளைப் பயன்படுத்தி ஒரு நிலையான AI முகவரியை உருவாக்கவும். முகவரி கீழ்க்கண்டவாறு அமைக்கப்பட்டுள்ளது:  \n",
    "- GPT-4.1 நானோ மாதிரி  \n",
    "- உதவிக்காக MCP கருவிகளைப் பயன்படுத்துவதற்கான வழிமுறைகள்  \n",
    "- Microsoft Learn MCP சர்வருக்கு அணுகல்\n"
   ]
  },
  {
   "cell_type": "code",
   "execution_count": null,
   "id": "cf7cb7d0",
   "metadata": {
    "language_info": {
     "name": "polyglot-notebook"
    },
    "polyglot_notebook": {
     "kernelName": "csharp"
    }
   },
   "outputs": [],
   "source": [
    "PersistentAgent agent = await agentClient.Administration.CreateAgentAsync(\n",
    "   model: modelDeploymentName,\n",
    "   name: \"my-learn-agent\",\n",
    "   instructions: \"You are a helpful agent that can use MCP tools to assist users. Use the available MCP tools to answer questions and perform tasks.\",\n",
    "   tools: [mcpTool]\n",
    "   );"
   ]
  },
  {
   "cell_type": "markdown",
   "id": "8e82cb78",
   "metadata": {},
   "source": [
    "## திரைச்சூழலை உருவாக்கி செய்தி அனுப்புதல்\n",
    "\n",
    "Azure OpenAI மற்றும் OpenAI இடையேயான வித்தியாசத்தைப் பற்றி கேள்வி கேட்கும் பயனர் செய்தியை அனுப்பி ஒரு உரையாடல் திரைச்சூழலை உருவாக்குங்கள். இது MCP கருவிகளைப் பயன்படுத்தி சரியான தகவலை வழங்குவதற்கான முகவரின் திறனை சோதிக்கும்.\n"
   ]
  },
  {
   "cell_type": "code",
   "execution_count": 7,
   "id": "c3e5fe54",
   "metadata": {
    "language_info": {
     "name": "polyglot-notebook"
    },
    "polyglot_notebook": {
     "kernelName": "csharp"
    }
   },
   "outputs": [],
   "source": [
    "PersistentAgentThread thread = await agentClient.Threads.CreateThreadAsync();\n",
    "\n",
    "// Create message to thread\n",
    "PersistentThreadMessage message = await agentClient.Messages.CreateMessageAsync(\n",
    "    thread.Id,\n",
    "    MessageRole.User,\n",
    "    \"What's difference between Azure OpenAI and OpenAI?\");"
   ]
  },
  {
   "cell_type": "markdown",
   "id": "c6caf33e",
   "metadata": {},
   "source": [
    "## MCP கருவி வளங்களை அமைக்கவும் (Keyless)\n",
    "\n",
    "MCP கருவி வளங்களை அமைக்கவும். உண்மையான keyless அணுகுமுறைக்கு, MCP சர்வர் Azure அடையாள அடிப்படையிலான அங்கீகாரத்தை ஆதரித்தால், தனிப்பயன் தலைப்புகளை நீக்கலாம். கீழே உள்ள உதாரணம் தேவைப்பட்டால் தலைப்புகளைச் சேர்ப்பது எப்படி என்பதை காட்டுகிறது, ஆனால் keyless சூழல்களில், இவை தேவையில்லை.\n"
   ]
  },
  {
   "cell_type": "code",
   "execution_count": null,
   "id": "b3dbe829",
   "metadata": {
    "language_info": {
     "name": "polyglot-notebook"
    },
    "polyglot_notebook": {
     "kernelName": "csharp"
    }
   },
   "outputs": [],
   "source": [
    "// Option 1: Completely keyless (if MCP server supports Azure identity)\n",
    "MCPToolResource mcpToolResource = new(mcpServerLabel);\n",
    "ToolResources toolResources = mcpToolResource.ToToolResources();\n",
    "\n",
    "// Option 2: With custom headers (if still needed for specific MCP servers)\n",
    "// MCPToolResource mcpToolResource = new(mcpServerLabel);\n",
    "// mcpToolResource.UpdateHeader(\"Authorization\", \"Bearer <your-token>\");\n",
    "// ToolResources toolResources = mcpToolResource.ToToolResources();"
   ]
  },
  {
   "cell_type": "markdown",
   "id": "56469935",
   "metadata": {},
   "source": [
    "## ஏஜென்ட் இயக்கத்தை தொடங்கவும்\n",
    "\n",
    "பயனர் செய்தியை செயலாக்க ஒரு இயக்கத்தை உருவாக்கி தொடங்கவும். ஏஜென்ட் அமைக்கப்பட்ட MCP கருவிகள் மற்றும் வளங்களைப் பயன்படுத்தி பதிலை உருவாக்கும்.\n"
   ]
  },
  {
   "cell_type": "code",
   "execution_count": 9,
   "id": "609f145c",
   "metadata": {
    "language_info": {
     "name": "polyglot-notebook"
    },
    "polyglot_notebook": {
     "kernelName": "csharp"
    }
   },
   "outputs": [],
   "source": [
    "ThreadRun run = await agentClient.Runs.CreateRunAsync(thread, agent, toolResources);"
   ]
  },
  {
   "cell_type": "markdown",
   "id": "80501bff",
   "metadata": {},
   "source": [
    "## இயக்கத்தை கண்காணித்து கருவி ஒப்புதல்களை நிர்வகிக்கவும் (Keyless)\n",
    "\n",
    "Agent இயக்கத்தின் நிலையை கண்காணித்து, தேவையான கருவி ஒப்புதல்களை நிர்வகிக்கவும். இந்த சுழற்சி:\n",
    "1. இயக்கம் முடிவடைய அல்லது நடவடிக்கை தேவைப்படும் வரை காத்திருக்கிறது\n",
    "2. MCP கருவி அழைப்புகளை தானாகவே ஒப்புதலளிக்கிறது, தேவையான போது\n",
    "3. Keyless அங்கீகாரம் பயன்படுத்தும்போது, MCP சர்வர் Azure அடையாளத்தை ஆதரிக்குமானால், தலைப்புகள் தேவையில்லை\n"
   ]
  },
  {
   "cell_type": "code",
   "execution_count": null,
   "id": "14056ceb",
   "metadata": {
    "language_info": {
     "name": "polyglot-notebook"
    },
    "polyglot_notebook": {
     "kernelName": "csharp"
    }
   },
   "outputs": [
    {
     "name": "stdout",
     "output_type": "stream",
     "text": [
      "Approving MCP tool call: microsoft_docs_search\n"
     ]
    }
   ],
   "source": [
    "while (run.Status == RunStatus.Queued || run.Status == RunStatus.InProgress || run.Status == RunStatus.RequiresAction)\n",
    "{\n",
    "    await Task.Delay(TimeSpan.FromMilliseconds(1000));\n",
    "    run = await agentClient.Runs.GetRunAsync(thread.Id, run.Id);\n",
    "\n",
    "    if (run.Status == RunStatus.RequiresAction && run.RequiredAction is SubmitToolApprovalAction toolApprovalAction)\n",
    "    {\n",
    "        var toolApprovals = new List<ToolApproval>();\n",
    "        foreach (var toolCall in toolApprovalAction.SubmitToolApproval.ToolCalls)\n",
    "        {\n",
    "            if (toolCall is RequiredMcpToolCall mcpToolCall)\n",
    "            {\n",
    "                Console.WriteLine($\"Approving MCP tool call: {mcpToolCall.Name}\");\n",
    "                \n",
    "                // Option 1: Keyless approval (no headers needed)\n",
    "                toolApprovals.Add(new ToolApproval(mcpToolCall.Id, approve: true));\n",
    "                \n",
    "                // Option 2: With headers (if required by specific MCP server)\n",
    "                // toolApprovals.Add(new ToolApproval(mcpToolCall.Id, approve: true)\n",
    "                // {\n",
    "                //     Headers = { [\"Authorization\"] = \"Bearer <your-token>\" }\n",
    "                // });\n",
    "            }\n",
    "        }\n",
    "\n",
    "        if (toolApprovals.Count > 0)\n",
    "        {\n",
    "            run = await agentClient.Runs.SubmitToolOutputsToRunAsync(thread.Id, run.Id, toolApprovals: toolApprovals);\n",
    "        }\n",
    "    }\n",
    "}"
   ]
  },
  {
   "cell_type": "markdown",
   "id": "a87e050f",
   "metadata": {},
   "source": [
    "## உரையாடல் முடிவுகளை காட்டவும்\n",
    "\n",
    "தொடரின் அனைத்து செய்திகளையும் பெறவும் மற்றும் காட்டவும், பயனர் கேள்வியும் முகவரின் பதிலும் சேர்த்து. செய்திகள் கால வரிசைப்படி நேரக்குறிப்புகள் மற்றும் பாத்திர சுட்டிகளுடன் காட்டப்படும்.\n"
   ]
  },
  {
   "cell_type": "code",
   "execution_count": 12,
   "id": "f08a5dbe",
   "metadata": {
    "language_info": {
     "name": "polyglot-notebook"
    },
    "polyglot_notebook": {
     "kernelName": "csharp"
    }
   },
   "outputs": [
    {
     "name": "stdout",
     "output_type": "stream",
     "text": [
      "2025-07-16 06:39:43 -       user: What's difference between Azure OpenAI and OpenAI?\n",
      "2025-07-16 06:39:51 -  assistant: The main difference between Azure OpenAI and OpenAI lies in their deployment, management, and integration options:\n",
      "\n",
      "1. **Azure OpenAI**:\n",
      "   - A cloud service offered through Microsoft Azure.\n",
      "   - Provides access to OpenAI models with additional enterprise features like security, compliance, and scale.\n",
      "   - Allows integration with other Azure services, enabling seamless use within existing Azure-based solutions.\n",
      "   - Offers managed deployment, monitoring, and support within the Azure ecosystem.\n",
      "   - Suitable for organizations looking for enterprise-grade security, compliance, and regional availability.\n",
      "\n",
      "2. **OpenAI (OpenAI API)**:\n",
      "   - A standalone API service provided directly by OpenAI.\n",
      "   - Accessible via the OpenAI platform without the need for Azure.\n",
      "   - Focused on providing GPT models, DALL-E, etc., primarily for developers and researchers.\n",
      "   - Suitable for individual developers, startups, and organizations preferring a direct connection to OpenAI’s models.\n",
      "\n",
      "In summary, **Azure OpenAI** is essentially OpenAI models accessed via Microsoft Azure, with additional enterprise offerings and integrations, whereas **OpenAI API** provides direct access to OpenAI models without Azure integration.\n",
      "\n",
      "Would you like more detailed technical differences or usage scenarios?\n"
     ]
    }
   ],
   "source": [
    "using Azure;\n",
    "\n",
    "AsyncPageable<PersistentThreadMessage> messages = agentClient.Messages.GetMessagesAsync(\n",
    "    threadId: thread.Id,\n",
    "    order: ListSortOrder.Ascending\n",
    ");\n",
    "\n",
    "await foreach (PersistentThreadMessage threadMessage in messages)\n",
    "{\n",
    "    Console.Write($\"{threadMessage.CreatedAt:yyyy-MM-dd HH:mm:ss} - {threadMessage.Role,10}: \");\n",
    "    foreach (MessageContent contentItem in threadMessage.ContentItems)\n",
    "    {\n",
    "        if (contentItem is MessageTextContent textItem)\n",
    "        {\n",
    "            Console.Write(textItem.Text);\n",
    "        }\n",
    "        else if (contentItem is MessageImageFileContent imageFileItem)\n",
    "        {\n",
    "            Console.Write($\"<image from ID: {imageFileItem.FileId}>\");\n",
    "        }\n",
    "        Console.WriteLine();\n",
    "    }\n",
    "}"
   ]
  },
  {
   "cell_type": "markdown",
   "metadata": {},
   "source": [
    "\n---\n\n**குறிப்பு**:  \nஇந்த ஆவணம் [Co-op Translator](https://github.com/Azure/co-op-translator) என்ற AI மொழிபெயர்ப்பு சேவையைப் பயன்படுத்தி மொழிபெயர்க்கப்பட்டுள்ளது. நாங்கள் துல்லியத்திற்காக முயற்சிக்கின்றோம், ஆனால் தானியங்கி மொழிபெயர்ப்புகளில் பிழைகள் அல்லது தவறான தகவல்கள் இருக்கக்கூடும் என்பதை தயவுசெய்து கவனத்தில் கொள்ளுங்கள். அதன் தாய்மொழியில் உள்ள மூல ஆவணம் அதிகாரப்பூர்வ ஆதாரமாக கருதப்பட வேண்டும். முக்கியமான தகவல்களுக்கு, தொழில்முறை மனித மொழிபெயர்ப்பு பரிந்துரைக்கப்படுகிறது. இந்த மொழிபெயர்ப்பைப் பயன்படுத்துவதால் ஏற்படும் எந்த தவறான புரிதல்கள் அல்லது தவறான விளக்கங்களுக்கு நாங்கள் பொறுப்பல்ல.\n"
   ]
  }
 ],
 "metadata": {
  "kernelspec": {
   "display_name": ".NET (C#)",
   "language": "C#",
   "name": ".net-csharp"
  },
  "language_info": {
   "name": "polyglot-notebook"
  },
  "polyglot_notebook": {
   "kernelInfo": {
    "defaultKernelName": "csharp",
    "items": [
     {
      "aliases": [],
      "name": "csharp"
     }
    ]
   }
  },
  "coopTranslator": {
   "original_hash": "0c65c99362f53cba7a7b7fe21eb9c680",
   "translation_date": "2025-10-11T13:07:45+00:00",
   "source_file": "05-AdvancedTopics/mcp-foundry-agent-integration/mcp_support_dotnet.ipynb",
   "language_code": "ta"
  }
 },
 "nbformat": 4,
 "nbformat_minor": 5
}